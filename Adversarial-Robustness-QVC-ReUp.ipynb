{
 "cells": [
  {
   "cell_type": "markdown",
   "id": "ad1f78dc",
   "metadata": {
    "id": "ad1f78dc"
   },
   "source": [
    "# Reupload-Encoding Variational Classifier"
   ]
  },
  {
   "cell_type": "code",
   "execution_count": 1,
   "id": "2928c0e9",
   "metadata": {
    "colab": {
     "base_uri": "https://localhost:8080/"
    },
    "id": "2928c0e9",
    "outputId": "1d87ef45-a6f8-49a2-c445-9d82bf40efdb"
   },
   "outputs": [],
   "source": [
    "from visualizer import *\n",
    "import pennylane as qml\n",
    "from pennylane import numpy as np\n",
    "import torch\n",
    "from torchvision import datasets, transforms\n",
    "from torch.utils.data import DataLoader"
   ]
  },
  {
   "cell_type": "code",
   "execution_count": 2,
   "id": "3ca05643",
   "metadata": {
    "colab": {
     "base_uri": "https://localhost:8080/"
    },
    "id": "3ca05643",
    "outputId": "8ae8ccae-391b-4a42-ba5f-5a95300f21e9"
   },
   "outputs": [],
   "source": [
    "transform=transforms.Compose([\n",
    "            transforms.Resize(size=18),\n",
    "            transforms.CenterCrop(size=16),\n",
    "            transforms.ToTensor()\n",
    "        ])"
   ]
  },
  {
   "cell_type": "code",
   "execution_count": 3,
   "id": "61c11dd7",
   "metadata": {},
   "outputs": [],
   "source": [
    "train = datasets.ImageFolder(root='./dataset/dataset_train', transform=transform)\n",
    "test = datasets.ImageFolder(root='./dataset/dataset_test', transform=transform)\n",
    "rng = np.random.default_rng(seed=123401234)\n",
    "num_classes = 4\n",
    "\n",
    "train_loader = DataLoader(train, batch_size=len(train))\n",
    "test_loader = DataLoader(test, batch_size=len(test))\n",
    "\n",
    "train_set_img, train_set_labels = next(iter(train_loader))\n",
    "test_set_img, test_set_labels = next(iter(test_loader))\n",
    "\n",
    "train_set_img = torch.squeeze(train_set_img[:,0,:,:])\n",
    "test_set_img = torch.squeeze(test_set_img[:,0,:,:])\n",
    "\n",
    "\n",
    "# permute the arrays so we can visualize different classes with first 10 imgs\n",
    "rand_idx_train = rng.permutation(len(train_set_img))\n",
    "X_train = train_set_img[rand_idx_train]\n",
    "Y_train = train_set_labels[rand_idx_train]\n",
    "\n",
    "rand_idx_test = rng.permutation(len(test_set_img))\n",
    "X_test = test_set_img[rand_idx_test]\n",
    "Y_test = test_set_labels[rand_idx_test]\n"
   ]
  },
  {
   "cell_type": "code",
   "execution_count": null,
   "id": "e16761fb",
   "metadata": {},
   "outputs": [],
   "source": [
    "\"\"\"\n",
    "train = datasets.MNIST('./dataset', train=True, download=True,\n",
    "                       transform=transform)\n",
    "test = datasets.MNIST('./dataset', train=False,\n",
    "                       transform=transform)\n",
    "\n",
    "train_loader = DataLoader(train, batch_size=len(train))\n",
    "test_loader = DataLoader(test, batch_size=len(test))\n",
    "\n",
    "train_set_img, train_set_labels = next(iter(train_loader))\n",
    "test_set_img, test_set_labels = next(iter(test_loader))\n",
    "\n",
    "X_train = train_set_img\n",
    "X_test = test_set_img\n",
    "Y_train = train_set_labels\n",
    "Y_test = test_set_labels\n",
    "\"\"\""
   ]
  },
  {
   "cell_type": "code",
   "execution_count": 9,
   "id": "fe831e6f",
   "metadata": {
    "colab": {
     "base_uri": "https://localhost:8080/"
    },
    "id": "fe831e6f",
    "outputId": "a3976827-8484-45e1-cda0-fc2651934100"
   },
   "outputs": [
    {
     "name": "stdout",
     "output_type": "stream",
     "text": [
      "Input shapes: X_train_input: torch.Size([1000, 256]), X_test_input: torch.Size([200, 256]),Y_train_input: torch.Size([1000]), Y_test_input: torch.Size([200])\n",
      "number of samples with label 0 in train set: 250\n",
      "number of samples with label 1 in train set: 250\n",
      "number of samples with label 2 in train set: 250\n",
      "number of samples with label 3 in train set: 250\n",
      "number of samples with label 0 in test set: 50\n",
      "number of samples with label 1 in test set: 50\n",
      "number of samples with label 2 in test set: 50\n",
      "number of samples with label 3 in test set: 50\n",
      "first 10 img of train set:\n"
     ]
    },
    {
     "data": {
      "image/png": "[encoded data removed]",
      "text/plain": [
       "<Figure size 750x400 with 10 Axes>"
      ]
     },
     "metadata": {},
     "output_type": "display_data"
    }
   ],
   "source": [
    "### Visualize some img\n",
    "\n",
    "classes = [0,1,2,3]\n",
    "num_classes = len(classes)\n",
    "\n",
    "def count_occurrences(x,y, set):\n",
    "    for label in range(len(classes)):\n",
    "        occurrences = x[y == label].shape[0]\n",
    "        print(f\"number of samples with label {label} in {set} set: {occurrences}\")\n",
    "\n",
    "padding = 0\n",
    "X_train_input = X_train\n",
    "Y_train_input = Y_train\n",
    "X_test_input = X_test\n",
    "Y_test_input = Y_test\n",
    "\n",
    "X_train_orig = np.copy(X_train_input.detach().numpy())\n",
    "X_test_orig = np.copy(X_test_input.detach().numpy())\n",
    "\n",
    "X_train_input = torch.reshape(X_train_input,(X_train_input.shape[0], -1))\n",
    "X_test_input = torch.reshape(X_test_input,(X_test_input.shape[0], -1))\n",
    "    \n",
    "if padding > 0:\n",
    "    print(\"WHY ARE U USING PADDING :(\")\n",
    "\n",
    "print(f\"Input shapes: X_train_input: {X_train_input.shape}, X_test_input: {X_test_input.shape},\"\n",
    "            +f\"Y_train_input: {Y_train_input.shape}, Y_test_input: {Y_test_input.shape}\") \n",
    "\n",
    "count_occurrences(X_train_input,Y_train_input, \"train\")\n",
    "count_occurrences(X_test_input,Y_test_input, \"test\")\n",
    "\n",
    "print('first 10 img of train set:')\n",
    "show_images(X_train_orig, Y_train_input)\n",
    "\n",
    "#print('first 10 img of test set:')\n",
    "#show_images(X_test_orig, Y_test_input)"
   ]
  },
  {
   "cell_type": "markdown",
   "id": "8da7a6b1",
   "metadata": {
    "id": "8da7a6b1"
   },
   "source": [
    "# The model"
   ]
  },
  {
   "cell_type": "code",
   "execution_count": 5,
   "id": "a9952594",
   "metadata": {},
   "outputs": [],
   "source": [
    "#####################################\n",
    "NUM_QUBITS = 8\n",
    "NUM_LAYERS = 32             # 3 times reupload - 32*8*3 == 768 == 256*3\n",
    "INPUT_DIM = 256\n",
    "NUM_REUP = 3\n",
    "#####################################\n",
    "\n",
    "NUM_CLASSES = num_classes"
   ]
  },
  {
   "cell_type": "code",
   "execution_count": 6,
   "id": "d966879e-c6e9-4a9b-b424-6f8a745fd2b6",
   "metadata": {},
   "outputs": [],
   "source": [
    "class QVC(torch.nn.Module):\n",
    "    def __init__(self, input_dim=INPUT_DIM, output_dim=NUM_CLASSES, num_qubits=NUM_QUBITS, \n",
    "                 num_layers=NUM_LAYERS, num_reup=NUM_REUP):\n",
    "        super().__init__()\n",
    "        self.num_qubits = num_qubits\n",
    "        self.output_dim = output_dim\n",
    "        self.num_layers = num_layers\n",
    "        self.num_reup = num_reup\n",
    "        # change device for higher performance!\n",
    "        self.device = qml.device(\"default.qubit\", wires=self.num_qubits)\n",
    "        #print(self.device.capabilities())\n",
    "        self.weights_shape = qml.StronglyEntanglingLayers.shape(n_layers=self.num_layers, n_wires=self.num_qubits)\n",
    "\n",
    "        @qml.qnode(self.device)\n",
    "        def circuit(inputs, weights, bias):\n",
    "            inputs = torch.reshape(inputs, self.weights_shape)\n",
    "            qml.StronglyEntanglingLayers(weights=weights*inputs+bias, wires=range(self.num_qubits))\n",
    "            return [qml.expval(qml.PauliZ(i)) for i in range(self.output_dim)]\n",
    "            \n",
    "        param_shapes = {\"weights\" : self.weights_shape,\n",
    "                         \"bias\"   : self.weights_shape}\n",
    "        init_vals = {\"weights\" : 0.01 * torch.rand(self.weights_shape),\n",
    "                     \"bias\"    : 0.01 * torch.rand(self.weights_shape)}\n",
    "        \n",
    "        self.qcircuit = qml.qnn.TorchLayer(qnode=circuit, weight_shapes=param_shapes, init_method=init_vals)\n",
    "        #drawer= qml.draw(circuit, show_all_wires=True, expansion_strategy=\"device\")\n",
    "        #dummy_vals = torch.zeros(self.weights_shape)\n",
    "        #print(drawer(dummy_vals,dummy_vals,dummy_vals))\n",
    "\n",
    "    def forward(self, x):\n",
    "        inputs_stack = torch.hstack([x]*self.num_reup)\n",
    "        return self.qcircuit(inputs_stack)\n"
   ]
  },
  {
   "cell_type": "markdown",
   "id": "2c35296c",
   "metadata": {},
   "source": [
    "### Regularization (Lipschitz regularizer to enforce robustness & generalisation) + Optimization\n",
    "\n",
    "Keep in mind that training takes its time when optimizing over the whole dataset!"
   ]
  },
  {
   "cell_type": "code",
   "execution_count": 7,
   "id": "c3f6f324",
   "metadata": {
    "colab": {
     "base_uri": "https://localhost:8080/"
    },
    "id": "7c88fd4c",
    "outputId": "ccd04bdd-8106-4855-ce9c-c81e0e50c2d6"
   },
   "outputs": [
    {
     "name": "stdout",
     "output_type": "stream",
     "text": [
      "QVC(\n",
      "  (qcircuit): <Quantum Torch Layer: func=circuit>\n",
      ")\n",
      "qcircuit.weights torch.Size([32, 8, 3])\n",
      "requires_grad: True\n",
      "qcircuit.bias torch.Size([32, 8, 3])\n",
      "requires_grad: True\n"
     ]
    }
   ],
   "source": [
    "#####################################\n",
    "learning_rate = 0.001\n",
    "REG = False\n",
    "regularization_rate = 0.0\n",
    "#####################################\n",
    "\n",
    "feats_train = X_train_input#.to(device)\n",
    "feats_test = X_test_input#.to(device)\n",
    "labels_train = Y_train_input#.to(device)\n",
    "labels_test = Y_test_input#.to(device)\n",
    "num_train = feats_train.shape[0]\n",
    "\n",
    "# see https://arxiv.org/abs/2311.11871\n",
    "def lipschitz_regularizer(reg_param, weights):\n",
    "    \"\"\"for Pauli Rotation gates we have ||H_j|| = 0.5, thus (|w_j|)^2*(|H_j|)^2 = (|w_j|*|H_j|)^2\"\"\"\n",
    "    return reg_param * torch.sum(torch.square(0.5*weights))\n",
    "\n",
    "model = QVC()\n",
    "#model.to(device)\n",
    "criterion = torch.nn.CrossEntropyLoss()\n",
    "optimizer = torch.optim.Adam(model.parameters(), lr=learning_rate)\n",
    "\n",
    "print(model)\n",
    "for name, param in model.named_parameters():\n",
    "    print(name, param.size())\n",
    "    print(f\"requires_grad: {param.requires_grad}\")\n",
    "\n",
    "def accuracy(labels, predictions):\n",
    "    acc = 0\n",
    "    for l, p in zip(labels, predictions):\n",
    "        if torch.argmax(p) == l:\n",
    "            acc = acc + 1\n",
    "    acc = acc / len(labels)\n",
    "    return acc"
   ]
  },
  {
   "cell_type": "code",
   "execution_count": 8,
   "id": "d1277018",
   "metadata": {
    "colab": {
     "base_uri": "https://localhost:8080/"
    },
    "id": "d1277018",
    "outputId": "80628be2-b910-48c4-d4fd-c4ee52c7c13a"
   },
   "outputs": [
    {
     "name": "stdout",
     "output_type": "stream",
     "text": [
      "Loading state_dict of model for epoch 20 and eval on dataset, pls stand by..\n",
      "Epoch     0 | Approx Cost (train): 0.8978896 | Approx Cost (val): 0.9197941 | Acc train: 0.9700000 | Acc val: 0.9700000\n"
     ]
    }
   ],
   "source": [
    "# training loop and optimizer init\n",
    "\n",
    "########################\n",
    "PRETRAINED = True\n",
    "load_epoch = 20    # 100\n",
    "path = f'./model_checkpoints/QVC-ReUp-8-32-0_0-ep{load_epoch}'\n",
    "########################\n",
    "\n",
    "if PRETRAINED:\n",
    "    epochs  = 0\n",
    "    model.load_state_dict(torch.load(path))\n",
    "    print(f'Loading state_dict of model for epoch {load_epoch} and eval on dataset, pls stand by..')\n",
    "else:\n",
    "    print(f'Beginning training loop for classes {classes}, {NUM_CLASSES} output qubits, {NUM_LAYERS} layers ({regularization_rate} regularized) QVC')\n",
    "    epochs = 20\n",
    "\n",
    "batch_size = 50\n",
    "num_batches = num_train//batch_size\n",
    "\n",
    "def gen_batches(num_samples, num_batches):\n",
    "    assert num_samples % num_batches == 0\n",
    "    perm_ind = torch.reshape(torch.randperm(num_samples), (num_batches, -1))\n",
    "    return perm_ind\n",
    "\n",
    "def print_acc(epoch, save_checkpoints=False):\n",
    "    with torch.no_grad():\n",
    "        if not PRETRAINED and save_checkpoints:\n",
    "            torch.save(model.state_dict(), f\"./model_checkpoints/QVC-new-ReUp-8-32-0_0-ep{epoch}\")\n",
    "        predictions_train = [model(f) for f in feats_train[:100]]\n",
    "        predictions_test = [model(f) for f in feats_test[:100]]\n",
    "        cost_approx_train = criterion(torch.stack(predictions_train), labels_train[:100])\n",
    "        cost_approx_test = criterion(torch.stack(predictions_test), labels_test[:100])\n",
    "        if REG:\n",
    "            reg_val = lipschitz_regularizer(regularization_rate, model.qcircuit.weights)\n",
    "            cost_approx_train += reg_val\n",
    "            cost_approx_test += reg_val\n",
    "        \n",
    "        acc_approx_train = accuracy(labels_train[:100], predictions_train)\n",
    "        acc_approx_test = accuracy(labels_test[:100], predictions_test)\n",
    "        \n",
    "        print(\"Epoch {:5d} | Approx Cost (train): {:0.7f} | Approx Cost (val): {:0.7f} | Acc train: {:0.7f} | Acc val: {:0.7f}\"\n",
    "        \"\".format(epoch, cost_approx_train, cost_approx_test, acc_approx_train, acc_approx_test))\n",
    "    return predictions_train, predictions_test\n",
    "\n",
    "for ep in range(epochs):\n",
    "    batch_ind = gen_batches(num_train, num_batches)\n",
    "    _, _ = print_acc(epoch=ep)\n",
    "\n",
    "    for it in range(num_batches):\n",
    "        optimizer.zero_grad()\n",
    "        feats_train_batch = feats_train[batch_ind[it]]\n",
    "        labels_train_batch = labels_train[batch_ind[it]]\n",
    "        \n",
    "        outputs = [model(f) for f in feats_train_batch]\n",
    "        loss = criterion(torch.stack(outputs),labels_train_batch)\n",
    "        if REG:\n",
    "            loss = loss + lipschitz_regularizer(regularization_rate, model.qcircuit.weights)\n",
    "        loss.backward()\n",
    "        optimizer.step()\n",
    "\n",
    "pred_train_final, pred_test_final = print_acc(epochs)      "
   ]
  },
  {
   "cell_type": "code",
   "execution_count": 12,
   "id": "d6uYnCDuSq-g",
   "metadata": {
    "id": "d6uYnCDuSq-g"
   },
   "outputs": [],
   "source": [
    "#### ADVERSARIAL ATTACKS ####\n",
    "\n",
    "def FGSM(loss, eps, feats, labels, weights):\n",
    "    delta = torch.zeros_like(feats, requires_grad=True)\n",
    "    loss = criterion(model(feats + delta), labels)\n",
    "    loss.backward()\n",
    "    return epsilon * delta.grad.detach().sign()\n",
    "\n",
    "def PGD(model, feats, labels, epsilon=0.1, alpha=0.01, num_iter=10, randomize=False, positive=False):\n",
    "    if randomize:\n",
    "        delta = torch.rand_like(feats, requires_grad=True)\n",
    "        delta.data = delta.data * 2 * epsilon - epsilon\n",
    "    else:\n",
    "        delta = torch.zeros_like(feats, requires_grad=True)\n",
    "    for t in range(num_iter):\n",
    "        feats_adv = feats + delta\n",
    "        outputs = [model(f) for f in feats_adv]\n",
    "        loss = criterion(torch.stack(outputs),labels)\n",
    "        loss.backward()\n",
    "        delta.data = (delta + alpha*delta.grad.detach().sign()).clamp(-epsilon,epsilon)\n",
    "        if positive:\n",
    "            delta.data = torch.where((delta+feats)<0,-feats,delta)\n",
    "        delta.grad.zero_()\n",
    "    return delta.detach()"
   ]
  },
  {
   "cell_type": "code",
   "execution_count": null,
   "id": "0c5e7ef1",
   "metadata": {},
   "outputs": [],
   "source": [
    "perturbed_X_train = PGD(model, feats=feats_train[:100], labels=labels_train[:100], epsilon=0.1, alpha=0.01, \n",
    "                  num_iter=10, randomize=False, positive=False)\n",
    "\n",
    "pred_check = [model(f) for f in feats_train[:100]]\n",
    "print(f'Benign accuracy: {accuracy(labels_train[:100], pred_check)}')\n",
    "pred_adv = [model(f) for f in perturbed_X_train[:100]+feats_train[:100]]\n",
    "print(f'Adv accuracy: {accuracy(labels_train[:100], pred_adv)}')\n",
    "\n",
    "# visualize the attack patterns\n",
    "perturbed_X_orig = torch.reshape(perturbed_X_train, (100,16,16)).detach().numpy() \n",
    "perturbed_img = X_train_orig[:100] + perturbed_X_orig[:100]\n",
    "show_images_pred(X=perturbed_img[10:], Y=labels_train[10:], pred=torch.stack(pred_adv[10:]).detach().numpy())"
   ]
  },
  {
   "cell_type": "code",
   "execution_count": null,
   "id": "077135ed",
   "metadata": {},
   "outputs": [],
   "source": [
    "# here we can also check transferability by loading perturbations from other models\n",
    "\n",
    "path = './perturbations/perturbations-ReUp-no_reg-ep20-PGD0_1-100_samples.npy'\n",
    "perturbed_X_orig = np.load(path)\n",
    "perturbed_X_train = torch.reshape(torch.from_numpy(perturbed_X_orig).float(), (100,256))\n",
    "\n",
    "pred_check = [model(f) for f in feats_train[:100]]\n",
    "print(f'Benign accuracy: {accuracy(labels_train[:100], pred_check)}')\n",
    "\n",
    "pred_adv = [model(f) for f in perturbed_X_train[:100]+feats_train[:100]]\n",
    "print(f'Adv accuracy: {accuracy(labels_train[:100], pred_adv)}')\n",
    "\n",
    "# visualize the attack patterns\n",
    "perturbed_img = X_train_orig[:100] + perturbed_X_orig[:100]\n",
    "show_images_pred(X=perturbed_img[10:], Y=labels_train[10:], pred=np.stack(pred_adv)[10:])\n"
   ]
  },
  {
   "cell_type": "code",
   "execution_count": null,
   "id": "66918ba8-5b6d-4f36-9ba9-10e2b19bfcb4",
   "metadata": {},
   "outputs": [],
   "source": []
  }
 ],
 "metadata": {
  "colab": {
   "provenance": []
  },
  "kernelspec": {
   "display_name": "Python 3 (ipykernel)",
   "language": "python",
   "name": "python3"
  },
  "language_info": {
   "codemirror_mode": {
    "name": "ipython",
    "version": 3
   },
   "file_extension": ".py",
   "mimetype": "text/x-python",
   "name": "python",
   "nbconvert_exporter": "python",
   "pygments_lexer": "ipython3",
   "version": "3.10.12"
  }
 },
 "nbformat": 4,
 "nbformat_minor": 5
}
